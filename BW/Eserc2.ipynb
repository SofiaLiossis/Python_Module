{
 "cells": [
  {
   "cell_type": "code",
   "execution_count": 10,
   "metadata": {},
   "outputs": [
    {
     "name": "stdout",
     "output_type": "stream",
     "text": [
      "12\n"
     ]
    }
   ],
   "source": [
    "#1. Scrivi una funzione che restituisca il massimo di tre numeri.\n",
    "\n",
    "def massimo_tre_numeri(num1, num2, num3):\n",
    "    return massimo_tre_numeri(num1, num2, num3)\n",
    "\n",
    "print(max(12, 6, 9))  "
   ]
  },
  {
   "cell_type": "code",
   "execution_count": 16,
   "metadata": {},
   "outputs": [
    {
     "name": "stdout",
     "output_type": "stream",
     "text": [
      "12\n"
     ]
    }
   ],
   "source": [
    "#1. Altra opzione \n",
    "\n",
    "def massimo_tre_numeri(num1, num2, num3):\n",
    "    if num1 >= num2 and num1 >= num3:\n",
    "        return num1\n",
    "    elif num2 >= num1 and num2 >= num3:\n",
    "        return num2\n",
    "    else:\n",
    "        return num3\n",
    "    \n",
    "print(massimo_tre_numeri(12, 6, 9))    "
   ]
  },
  {
   "cell_type": "code",
   "execution_count": 3,
   "metadata": {},
   "outputs": [
    {
     "name": "stdout",
     "output_type": "stream",
     "text": [
      "40 gradi Celsius corrispondono a 104.0 gradi Fahrenheit.\n"
     ]
    }
   ],
   "source": [
    "#2. Scrivi una funzione che converta gradi Celsius in Fahrenheit.\n",
    "def celsius_a_fahrenheit(celsius):\n",
    "    fahrenheit = (celsius * 9/5) + 32\n",
    "    return fahrenheit\n",
    "\n",
    "temperatura_celsius = 40\n",
    "temperatura_fahrenheit = celsius_a_fahrenheit(temperatura_celsius)\n",
    "print(f\"{temperatura_celsius} gradi Celsius corrispondono a {temperatura_fahrenheit} gradi Fahrenheit.\")\n"
   ]
  },
  {
   "cell_type": "code",
   "execution_count": 18,
   "metadata": {},
   "outputs": [
    {
     "name": "stdout",
     "output_type": "stream",
     "text": [
      "25 gradi Celsius corrispondono a 77.0 gradi Fahrenheit.\n",
      "L'unità di temperatura è: Celsius\n"
     ]
    }
   ],
   "source": [
    "#2. Altra opzione \n",
    "def celsius_a_fahrenheit(celsius):\n",
    "    fahrenheit = (celsius * 9/5) + 32\n",
    "    return fahrenheit\n",
    "\n",
    "def verifica_unita_temperatura(temperatura):\n",
    "    if temperatura.lower().endswith('c'):\n",
    "        return 'Celsius'\n",
    "    elif temperatura.lower().endswith('f'):\n",
    "        return 'Fahrenheit'\n",
    "    else:\n",
    "        return 'Unità di temperatura non riconosciuta'\n",
    "\n",
    "temperatura_celsius = 25\n",
    "temperatura_fahrenheit = celsius_a_fahrenheit(temperatura_celsius)\n",
    "print(f\"{temperatura_celsius} gradi Celsius corrispondono a {temperatura_fahrenheit} gradi Fahrenheit.\")\n",
    "\n",
    "temperatura = \"50C\"\n",
    "unita = verifica_unita_temperatura(temperatura)\n",
    "print(f\"L'unità di temperatura è: {unita}\")\n"
   ]
  },
  {
   "cell_type": "code",
   "execution_count": 4,
   "metadata": {},
   "outputs": [
    {
     "name": "stdout",
     "output_type": "stream",
     "text": [
      "Lista originale: [1, 20, 13, 54, 20, 13, 5, 65, 12, 1]\n",
      "Lista senza duplicati: [1, 65, 5, 12, 13, 20, 54]\n"
     ]
    }
   ],
   "source": [
    "#3. Scrivi un programma che rimuova i duplicati da una lista.\n",
    "\n",
    "def rimuovi_duplicati(lista):\n",
    "    lista_senza_duplicati = list(set(lista))\n",
    "    return lista_senza_duplicati\n",
    "\n",
    "lista_originale = [1, 20, 13, 54, 20, 13, 5, 65, 12, 1]\n",
    "lista_senza_duplicati = rimuovi_duplicati(lista_originale)\n",
    "print(\"Lista originale:\", lista_originale)\n",
    "print(\"Lista senza duplicati:\", lista_senza_duplicati)\n",
    "\n",
    "\n"
   ]
  },
  {
   "cell_type": "code",
   "execution_count": null,
   "metadata": {},
   "outputs": [],
   "source": [
    "#3. Altra opzione \n",
    "def rimuovi_duplicati(lista):\n",
    "    lista_senza_duplicati = []\n",
    "    for elemento in lista:\n",
    "        if elemento not in lista_senza_duplicati:\n",
    "            lista_senza_duplicati.append(elemento)\n",
    "    return lista_senza_duplicati\n",
    "\n",
    "lista_originale = [1, 20, 13, 54, 20, 13, 5, 65, 12, 1]\n",
    "lista_senza_duplicati = rimuovi_duplicati(lista_originale)\n",
    "print(\"Lista originale:\", lista_originale)\n",
    "print(\"Lista senza duplicati:\", lista_senza_duplicati)\n"
   ]
  },
  {
   "cell_type": "code",
   "execution_count": 9,
   "metadata": {},
   "outputs": [
    {
     "name": "stdout",
     "output_type": "stream",
     "text": [
      "'sofia' è un palindromo? False\n",
      "'ciao' è un palindromo? False\n",
      "'effe' è un palindromo? True\n"
     ]
    }
   ],
   "source": [
    "#4. Crea una funzione che verifichi se una parola è un palindromo.\n",
    "\n",
    "def palindromo(parola):\n",
    "    parola = parola.lower()  # Per trasformare la parola in minuscolo per uniformità\n",
    "    parola_senza_spazi = parola.replace(\" \", \"\")  # Per rimuovere gli spazi dalla parola\n",
    "    return parola_senza_spazi == parola_senza_spazi[::-1]\n",
    "\n",
    "\n",
    "parola1 = \"sofia\"\n",
    "parola2 = \"ciao\"\n",
    "parola3 = \"effe\"\n",
    "print(f\"'{parola1}' è un palindromo?\", palindromo(parola1))  \n",
    "print(f\"'{parola2}' è un palindromo?\", palindromo(parola2))  \n",
    "print(f\"'{parola3}' è un palindromo?\", palindromo(parola3))  \n"
   ]
  },
  {
   "cell_type": "code",
   "execution_count": 13,
   "metadata": {},
   "outputs": [
    {
     "name": "stdout",
     "output_type": "stream",
     "text": [
      "Il fattoriale di 6 è 720\n"
     ]
    }
   ],
   "source": [
    "#5. Scrivi una funzione che calcoli il fattoriale di un numero.\n",
    "def fattoriale(numero):\n",
    "    if numero == 0:\n",
    "        return 1\n",
    "    else:\n",
    "        return numero * fattoriale(numero - 1)\n",
    "\n",
    "numero = 6\n",
    "risultato = fattoriale(numero)\n",
    "print(f\"Il fattoriale di {numero} è {risultato}\")\n"
   ]
  },
  {
   "cell_type": "code",
   "execution_count": 15,
   "metadata": {},
   "outputs": [
    {
     "name": "stdout",
     "output_type": "stream",
     "text": [
      "Nuovo dizionario: {'a': 12, 'b': 26, 'c': 34}\n"
     ]
    }
   ],
   "source": [
    "#6. Crea un dizionario da due liste, una che contiene le chiavi e l'altra i valori.\n",
    "\n",
    "def crea_dizionario(list_keys, list_values):\n",
    "    if len(list_keys) != len(list_values):\n",
    "        return \"Le liste devono avere la stessa lunghezza\"\n",
    "    \n",
    "    dizionario = dict(zip(list_keys, list_values))\n",
    "    return dizionario\n",
    "\n",
    "chiavi = ['a', 'b', 'c']\n",
    "valori = [12, 26, 34]\n",
    "nuovo_dizionario = crea_dizionario(chiavi, valori)\n",
    "print(\"Nuovo dizionario:\", nuovo_dizionario)\n"
   ]
  },
  {
   "cell_type": "code",
   "execution_count": 19,
   "metadata": {},
   "outputs": [
    {
     "name": "stdout",
     "output_type": "stream",
     "text": [
      "Lista di tuple unite: [(1, 'a'), (2, 'b'), (3, 'c')]\n"
     ]
    }
   ],
   "source": [
    "#7. Scrivi una funzione che unisca due liste in una lista di tuple.\n",
    "\n",
    "def unisci_liste_in_tuple(lista1, lista2):\n",
    "    lunghezza_minima = min(len(lista1), len(lista2))  # lunghezza minima delle due liste\n",
    "    tuple_unite = [(lista1[i], lista2[i]) for i in range(lunghezza_minima)]  # Creo una lista di tuple\n",
    "    return tuple_unite\n",
    "\n",
    "lista1 = [1, 2, 3]\n",
    "lista2 = ['a', 'b', 'c']\n",
    "risultato = unisci_liste_in_tuple(lista1, lista2)\n",
    "print(\"Lista di tuple unite:\", risultato)\n"
   ]
  },
  {
   "cell_type": "code",
   "execution_count": 22,
   "metadata": {},
   "outputs": [
    {
     "name": "stdout",
     "output_type": "stream",
     "text": [
      "Lista di tuple ordinata per il secondo elemento: [(4, 2), (15, 5), (12, 28), (54, 31)]\n"
     ]
    }
   ],
   "source": [
    "#8. Scrivi un programma che ordini una lista di tuple per il secondo elemento.\n",
    "\n",
    "def ordina_secondo_elemento(lista_di_tuple):\n",
    "    return sorted(lista_di_tuple, key=lambda tupla: tupla[1])\n",
    "\n",
    "lista_di_tuple = [(15, 5), (4, 2), (12, 28), (54, 31)]\n",
    "lista_ordinata = ordina_secondo_elemento(lista_di_tuple)\n",
    "print(\"Lista di tuple ordinata per il secondo elemento:\", lista_ordinata)\n"
   ]
  },
  {
   "cell_type": "code",
   "execution_count": 23,
   "metadata": {},
   "outputs": [
    {
     "name": "stdout",
     "output_type": "stream",
     "text": [
      "Lista dei quadrati dei primi 10 numeri interi: [1, 4, 9, 16, 25, 36, 49, 64, 81, 100]\n"
     ]
    }
   ],
   "source": [
    "#9. Utilizza una list comprehension per creare una lista dei quadrati dei primi 10 numeri interi.\n",
    "\n",
    "quadrati_primi_10 = [n ** 2 for n in range(1, 11)]\n",
    "\n",
    "print(\"Lista dei quadrati dei primi 10 numeri interi:\", quadrati_primi_10)\n"
   ]
  },
  {
   "cell_type": "code",
   "execution_count": 25,
   "metadata": {},
   "outputs": [
    {
     "name": "stdout",
     "output_type": "stream",
     "text": [
      "Numeri pari dalla lista data: [12, 32, 84, 36, 68, 10]\n"
     ]
    }
   ],
   "source": [
    "#10. Utilizza una list comprehension per estrarre numeri pari da una lista data.\n",
    "\n",
    "lista_data = [12, 32, 53, 84, 15, 36, 47, 68, 49, 10]\n",
    "\n",
    "numeri_pari = [numero for numero in lista_data if numero % 2 == 0]\n",
    "\n",
    "print(\"Numeri pari dalla lista data:\", numeri_pari)\n"
   ]
  },
  {
   "cell_type": "code",
   "execution_count": 28,
   "metadata": {},
   "outputs": [
    {
     "name": "stdout",
     "output_type": "stream",
     "text": [
      "Lista di stringhe convertite in maiuscolo: ['BUONGIORNO', 'MI', 'CHIAMO', 'SOFIA', 'LIOSSIS']\n"
     ]
    }
   ],
   "source": [
    "#11. Crea una list comprehension che converta una lista di stringhe in maiuscolo.\n",
    "\n",
    "lista_di_stringhe = [\"Buongiorno\", \"mi\", \"chiamo\", \"Sofia\", \"Liossis\"]\n",
    "\n",
    "lista_maiuscola = [stringa.upper() for stringa in lista_di_stringhe]\n",
    "\n",
    "print(\"Lista di stringhe convertite in maiuscolo:\", lista_maiuscola)\n"
   ]
  },
  {
   "cell_type": "code",
   "execution_count": 29,
   "metadata": {},
   "outputs": [
    {
     "name": "stdout",
     "output_type": "stream",
     "text": [
      "Lista di tuple (numero, quadrato del numero): [(1, 1), (2, 4), (3, 9), (4, 16), (5, 25), (6, 36), (7, 49), (8, 64), (9, 81), (10, 100)]\n"
     ]
    }
   ],
   "source": [
    "#12. Utilizza una list comprehension per creare una lista di tuple (numero, quadrato del numero).\n",
    "\n",
    "numeri = [1, 2, 3, 4, 5, 6, 7, 8, 9, 10]\n",
    "\n",
    "lista_di_tuple = [(numero, numero ** 2) for numero in numeri]\n",
    "\n",
    "print(\"Lista di tuple (numero, quadrato del numero):\", lista_di_tuple)\n"
   ]
  },
  {
   "cell_type": "code",
   "execution_count": 32,
   "metadata": {},
   "outputs": [
    {
     "name": "stdout",
     "output_type": "stream",
     "text": [
      "Parole che iniziano con una vocale: ['orologio', 'animale']\n"
     ]
    }
   ],
   "source": [
    "#13. Scrivi una list comprehension che filtri le parole di una lista che iniziano con una vocale.\n",
    "\n",
    "lista_parole = [\"tavolo\", \"penna\", \"orologio\", \"matita\", \"cane\", \"animale\",\"finestra\"]\n",
    "\n",
    "parole_con_vocale = [parola for parola in lista_parole if parola[0].lower() in 'aeiou']\n",
    "\n",
    "print(\"Parole che iniziano con una vocale:\", parole_con_vocale)\n"
   ]
  },
  {
   "cell_type": "code",
   "execution_count": 34,
   "metadata": {},
   "outputs": [
    {
     "name": "stdout",
     "output_type": "stream",
     "text": [
      "Lista senza valori negativi: [15, 62, 2, 22, 38]\n"
     ]
    }
   ],
   "source": [
    "#14. Utilizza una list comprehension per eliminare i valori negativi da una lista.\n",
    "\n",
    "lista_originale = [15, -25, 62, -6, 2, 22, -19, 38]\n",
    "\n",
    "lista_senza_negativi = [numero for numero in lista_originale if numero >= 0]\n",
    "\n",
    "print(\"Lista senza valori negativi:\", lista_senza_negativi)\n"
   ]
  },
  {
   "cell_type": "code",
   "execution_count": 35,
   "metadata": {},
   "outputs": [
    {
     "name": "stdout",
     "output_type": "stream",
     "text": [
      "Lista delle lettere dell'alfabeto: ['a', 'b', 'c', 'd', 'e', 'f', 'g', 'h', 'i', 'j', 'k', 'l', 'm', 'n', 'o', 'p', 'q', 'r', 's', 't', 'u', 'v', 'w', 'x', 'y', 'z']\n"
     ]
    }
   ],
   "source": [
    "#15. Crea una lista di tutte le lettere dell'alfabeto con una list comprehension.\n",
    "\n",
    "alfabeto = [chr(lettera) for lettera in range(ord('a'), ord('z')+1)]\n",
    "\n",
    "print(\"Lista delle lettere dell'alfabeto:\", alfabeto)\n"
   ]
  }
 ],
 "metadata": {
  "kernelspec": {
   "display_name": "Python 3",
   "language": "python",
   "name": "python3"
  },
  "language_info": {
   "codemirror_mode": {
    "name": "ipython",
    "version": 3
   },
   "file_extension": ".py",
   "mimetype": "text/x-python",
   "name": "python",
   "nbconvert_exporter": "python",
   "pygments_lexer": "ipython3",
   "version": "3.12.1"
  }
 },
 "nbformat": 4,
 "nbformat_minor": 2
}
