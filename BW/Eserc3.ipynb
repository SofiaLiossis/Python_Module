{
 "cells": [
  {
   "cell_type": "code",
   "execution_count": 18,
   "metadata": {},
   "outputs": [
    {
     "name": "stdout",
     "output_type": "stream",
     "text": [
      "Array numpy di dimensione 3x3 con valori casuali:\n",
      "[[0.13458344 0.38930667 0.93838752]\n",
      " [0.80547187 0.2477013  0.61100637]\n",
      " [0.34212886 0.84355159 0.97908324]]\n"
     ]
    }
   ],
   "source": [
    "#16. Crea un array numpy di dimensione 3x3 con valori casuali.\n",
    "\n",
    "import numpy as np\n",
    "\n",
    "array_casuale = np.random.rand(3, 3)\n",
    "\n",
    "print(\"Array numpy di dimensione 3x3 con valori casuali:\")\n",
    "print(array_casuale)\n"
   ]
  },
  {
   "cell_type": "code",
   "execution_count": 9,
   "metadata": {},
   "outputs": [
    {
     "name": "stdout",
     "output_type": "stream",
     "text": [
      "Somma di tutti gli elementi nell'array numpy: 342\n"
     ]
    }
   ],
   "source": [
    "#17. Scrivi un programma che calcoli la somma di tutti gli elementi in un array numpy.\n",
    "\n",
    "array_numpy = np.array([[5, 23, 45],\n",
    "                        [85, 72, 8],\n",
    "                        [17, 48, 39]])\n",
    "\n",
    "somma_totale = np.sum(array_numpy)\n",
    "\n",
    "print(\"Somma di tutti gli elementi nell'array numpy:\", somma_totale)\n"
   ]
  },
  {
   "cell_type": "code",
   "execution_count": 11,
   "metadata": {},
   "outputs": [
    {
     "name": "stdout",
     "output_type": "stream",
     "text": [
      "Array: [1 2 3 4 5 6 7 8 9]\n",
      "Media: 5.0\n",
      "Mediana: 5.0\n",
      "Varianza: 6.666666666666667\n"
     ]
    }
   ],
   "source": [
    "#18. Crea un array numpy e calcolane la media, mediana e varianza.\n",
    "\n",
    "arr1 = np.array([1, 2, 3, 4, 5, 6, 7, 8, 9])\n",
    "\n",
    "media = np.mean(arr1)\n",
    "mediana = np.median(arr1)\n",
    "varianza = np.var(arr1)\n",
    "\n",
    "print(\"Array:\", arr1)\n",
    "print(\"Media:\", media)\n",
    "print(\"Mediana:\", mediana)\n",
    "print(\"Varianza:\", varianza)\n"
   ]
  },
  {
   "cell_type": "code",
   "execution_count": 27,
   "metadata": {},
   "outputs": [
    {
     "name": "stdout",
     "output_type": "stream",
     "text": [
      "Matrice 1:\n",
      "[[1 2 3]\n",
      " [4 5 6]]\n",
      "\n",
      "Matrice 2:\n",
      "[[ 7  8  9]\n",
      " [10 11 12]]\n",
      "\n",
      "Prodotto delle due matrici:\n",
      "[[ 7 16 27]\n",
      " [40 55 72]]\n"
     ]
    }
   ],
   "source": [
    "#19. Scrivi un programma che moltiplichi due matrici numpy.\n",
    "\n",
    "matrice1 = np.array([[1, 2, 3],\n",
    "                     [4, 5, 6]])\n",
    "\n",
    "matrice2 = np.array([[7, 8 , 9],\n",
    "                     [10, 11, 12]])\n",
    "                   \n",
    "\n",
    "\n",
    "prodotto = matrice1 * matrice2\n",
    "\n",
    "print(\"Matrice 1:\")\n",
    "print(matrice1)\n",
    "print(\"\\nMatrice 2:\")\n",
    "print(matrice2)\n",
    "print(\"\\nProdotto delle due matrici:\")\n",
    "print(prodotto)\n"
   ]
  },
  {
   "cell_type": "code",
   "execution_count": 23,
   "metadata": {},
   "outputs": [
    {
     "name": "stdout",
     "output_type": "stream",
     "text": [
      "Matrice 1:\n",
      "[[1 2 3]\n",
      " [4 5 6]]\n",
      "\n",
      "Matrice 2:\n",
      "[[ 7  8]\n",
      " [ 9 10]\n",
      " [11 12]]\n",
      "\n",
      "Prodotto delle due matrici:\n",
      "[[ 58  64]\n",
      " [139 154]]\n"
     ]
    }
   ],
   "source": [
    "# 19. Altra opzione \n",
    "matrice1 = np.array([[1, 2, 3],\n",
    "                     [4, 5, 6]])\n",
    "\n",
    "matrice2 = np.array([[7, 8],\n",
    "                     [9, 10],\n",
    "                     [11, 12]])\n",
    "\n",
    "\n",
    "prodotto = np.dot(matrice1, matrice2)\n",
    "\n",
    "print(\"Matrice 1:\")\n",
    "print(matrice1)\n",
    "print(\"\\nMatrice 2:\")\n",
    "print(matrice2)\n",
    "print(\"\\nProdotto delle due matrici:\")\n",
    "print(prodotto)\n"
   ]
  },
  {
   "cell_type": "code",
   "execution_count": 29,
   "metadata": {},
   "outputs": [
    {
     "name": "stdout",
     "output_type": "stream",
     "text": [
      "Array numpy originale: [23 15 74 21 55 79 22 96 35]\n",
      "Array numpy ordinato in modo ascendente: [15 21 22 23 35 55 74 79 96]\n"
     ]
    }
   ],
   "source": [
    "#20. Crea un array numpy e ordinalo in modo ascendente.\n",
    "\n",
    "\n",
    "array_numpy = np.array([23, 15, 74, 21, 55, 79, 22, 96, 35])\n",
    "\n",
    "array_ordinato = np.sort(array_numpy)\n",
    "\n",
    "print(\"Array numpy originale:\", array_numpy)\n",
    "print(\"Array numpy ordinato in modo ascendente:\", array_ordinato)\n"
   ]
  }
 ],
 "metadata": {
  "kernelspec": {
   "display_name": "Python 3",
   "language": "python",
   "name": "python3"
  },
  "language_info": {
   "codemirror_mode": {
    "name": "ipython",
    "version": 3
   },
   "file_extension": ".py",
   "mimetype": "text/x-python",
   "name": "python",
   "nbconvert_exporter": "python",
   "pygments_lexer": "ipython3",
   "version": "3.12.1"
  }
 },
 "nbformat": 4,
 "nbformat_minor": 2
}
