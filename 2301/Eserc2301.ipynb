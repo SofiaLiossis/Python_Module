{
 "cells": [
  {
   "cell_type": "code",
   "execution_count": 1,
   "id": "da76157c-0c05-4853-a741-509f1c378214",
   "metadata": {},
   "outputs": [
    {
     "name": "stdout",
     "output_type": "stream",
     "text": [
      "Hello,World!\n"
     ]
    }
   ],
   "source": [
    "#Esercizio1\n",
    "%run script_esempio.py "
   ]
  },
  {
   "cell_type": "code",
   "execution_count": 18,
   "id": "341c3b4f-9f58-44b6-af02-82052a41c123",
   "metadata": {},
   "outputs": [
    {
     "name": "stdout",
     "output_type": "stream",
     "text": [
      "Writing output.txt\n"
     ]
    }
   ],
   "source": [
    "#Esercizio2\n",
    "%%writefile output.txt\n",
    "\"Questo è un esempio di scrittura in file usando magic command\""
   ]
  },
  {
   "cell_type": "code",
   "execution_count": 19,
   "id": "f8ee536b-8faa-4c9f-8568-22520a49467e",
   "metadata": {},
   "outputs": [],
   "source": [
    "#Esercizio3\n",
    "def  calcola_quadrato(a):\n",
    "    return a*a"
   ]
  },
  {
   "cell_type": "code",
   "execution_count": 22,
   "id": "592a0c68-ee4f-4c78-928e-a42d0f3929c3",
   "metadata": {},
   "outputs": [
    {
     "name": "stdout",
     "output_type": "stream",
     "text": [
      "54.1 ns ± 1.47 ns per loop (mean ± std. dev. of 7 runs, 10,000,000 loops each)\n"
     ]
    }
   ],
   "source": [
    "%timeit calcola_quadrato(5)"
   ]
  },
  {
   "cell_type": "code",
   "execution_count": 35,
   "id": "a18cd61a-95f8-40b2-9b6a-f896fe7473dc",
   "metadata": {},
   "outputs": [
    {
     "name": "stdout",
     "output_type": "stream",
     "text": [
      "C:\\Users\\lioss\\OneDrive\\Desktop\n"
     ]
    }
   ],
   "source": [
    "%cd .."
   ]
  },
  {
   "cell_type": "code",
   "execution_count": 36,
   "id": "9daf59b6-214e-4422-822b-4020339fcd5c",
   "metadata": {},
   "outputs": [
    {
     "name": "stdout",
     "output_type": "stream",
     "text": [
      " Il volume nell'unit… C Š Windows\n",
      " Numero di serie del volume: 7ED3-C81C\n",
      "\n",
      " Directory di C:\\Users\\lioss\\OneDrive\\Desktop\n",
      "\n",
      "23/01/2024  15:27    <DIR>          .\n",
      "22/01/2024  10:51    <DIR>          ..\n",
      "23/01/2024  15:18    <DIR>          .ipynb_checkpoints\n",
      "22/10/2023  16:20    <DIR>          Attestati Informatica\n",
      "08/12/2023  11:30    <DIR>          CV\n",
      "02/01/2024  15:15    <DIR>          dbms1\n",
      "18/01/2024  00:09               734 ELEMENTI PER PYTHON.txt\n",
      "18/01/2024  17:17    <DIR>          EPICODE\n",
      "23/01/2024  15:27             3.104 Eserc2301.ipynb\n",
      "02/12/2019  03:55             2.413 Excel.lnk\n",
      "11/05/2023  21:06             5.735 Firma digitale.png\n",
      "04/08/2022  19:56             1.268 FreeYouTubeDownload_4.3.78.607_o_ac7379cd-f885-477b-9809-18232b88ddf3.exe.lnk\n",
      "17/01/2024  09:48    <DIR>          Lezione 1\n",
      "18/01/2024  18:02    <DIR>          Lezione 3\n",
      "23/01/2024  09:50               258 Lezione5.py\n",
      "02/01/2024  17:33            14.868 models_pt2.mwb\n",
      "09/01/2024  10:25            14.868 models_pt2.mwb.beforefix\n",
      "21/12/2023  10:00             2.399 MySQL 8.2 Configurator.lnk\n",
      "21/12/2023  10:04             2.243 MySQL Workbench 8.0 CE.lnk\n",
      "16/01/2024  11:39       109.619.416 ndp472-devpack-enu.exe\n",
      "23/01/2024  15:05                66 output.txt\n",
      "30/11/2023  20:29             1.434 PRESENTAZIONE COLL.txt\n",
      "28/08/2023  19:53    <DIR>          PRIMARIA\n",
      "23/01/2024  14:24    <DIR>          Prove git\n",
      "23/01/2024  11:13               673 Prove lez5.py\n",
      "16/01/2024  11:41    <DIR>          Prove Phyton\n",
      "22/12/2023  11:55            40.951 Prove.xlsx\n",
      "18/01/2024  17:17    <DIR>          Python\n",
      "16/01/2024  10:02             1.493 Python 3.12 (64-bit).lnk\n",
      "23/01/2024  14:43                21 script_esempio.py\n",
      "04/08/2022  19:55               735 scrivania.lnk\n",
      "12/12/2023  19:27    <DIR>          Scuola\n",
      "23/01/2024  12:25             2.270 Sourcetree.lnk\n",
      "06/12/2023  15:13               920 Sublime Text.lnk\n",
      "23/01/2024  14:46    <DIR>          test\n",
      "22/01/2024  17:54             1.948 Untitled-1.md\n",
      "16/01/2024  11:11             1.764 Visual Studio 2022.lnk\n",
      "06/12/2023  17:20             1.425 Visual Studio Code.lnk\n",
      "13/12/2023  09:06             2.048 Webex.lnk\n",
      "06/05/2022  21:30             1.171 Wordpad.lnk\n",
      "              25 File    109.724.225 byte\n",
      "              15 Directory  43.206.799.360 byte disponibili\n"
     ]
    }
   ],
   "source": [
    "#Esercizio4\n",
    "%ls"
   ]
  },
  {
   "cell_type": "code",
   "execution_count": null,
   "id": "8693045b-2d51-48c8-850d-52b97311702c",
   "metadata": {},
   "outputs": [],
   "source": []
  }
 ],
 "metadata": {
  "kernelspec": {
   "display_name": "Python 3 (ipykernel)",
   "language": "python",
   "name": "python3"
  },
  "language_info": {
   "codemirror_mode": {
    "name": "ipython",
    "version": 3
   },
   "file_extension": ".py",
   "mimetype": "text/x-python",
   "name": "python",
   "nbconvert_exporter": "python",
   "pygments_lexer": "ipython3",
   "version": "3.12.1"
  }
 },
 "nbformat": 4,
 "nbformat_minor": 5
}
