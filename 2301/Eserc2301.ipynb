{
 "cells": [
  {
   "cell_type": "code",
   "execution_count": 1,
   "id": "da76157c-0c05-4853-a741-509f1c378214",
   "metadata": {},
   "outputs": [
    {
     "name": "stdout",
     "output_type": "stream",
     "text": [
      "Hello,World!\n"
     ]
    }
   ],
   "source": [
    "#Esercizio1\n",
    "%run script_esempio.py "
   ]
  },
  {
   "cell_type": "code",
   "execution_count": 3,
   "id": "341c3b4f-9f58-44b6-af02-82052a41c123",
   "metadata": {},
   "outputs": [
    {
     "name": "stdout",
     "output_type": "stream",
     "text": [
      "Overwriting output.txt\n"
     ]
    }
   ],
   "source": [
    "%%writefile output.txt\n",
    "\"Questo è un esempio di scrittura in file usando magic command\""
   ]
  },
  {
   "cell_type": "code",
   "execution_count": 4,
   "id": "f8ee536b-8faa-4c9f-8568-22520a49467e",
   "metadata": {},
   "outputs": [],
   "source": [
    "#Esercizio3\n",
    "def  calcola_quadrato(a):\n",
    "    return a*a"
   ]
  },
  {
   "cell_type": "code",
   "execution_count": 5,
   "id": "592a0c68-ee4f-4c78-928e-a42d0f3929c3",
   "metadata": {},
   "outputs": [
    {
     "name": "stdout",
     "output_type": "stream",
     "text": [
      "65.5 ns ± 9.76 ns per loop (mean ± std. dev. of 7 runs, 10,000,000 loops each)\n"
     ]
    }
   ],
   "source": [
    "%timeit calcola_quadrato(5)"
   ]
  },
  {
   "cell_type": "code",
   "execution_count": 9,
   "id": "a18cd61a-95f8-40b2-9b6a-f896fe7473dc",
   "metadata": {},
   "outputs": [
    {
     "name": "stdout",
     "output_type": "stream",
     "text": [
      "c:\\Users\\lioss\\OneDrive\\Desktop\\Python\\Python_Module\n"
     ]
    },
    {
     "name": "stderr",
     "output_type": "stream",
     "text": [
      "c:\\Users\\lioss\\AppData\\Local\\Programs\\Python\\Python312\\Lib\\site-packages\\IPython\\core\\magics\\osm.py:417: UserWarning: using dhist requires you to install the `pickleshare` library.\n",
      "  self.shell.db['dhist'] = compress_dhist(dhist)[-100:]\n"
     ]
    }
   ],
   "source": [
    "%cd .."
   ]
  },
  {
   "cell_type": "code",
   "execution_count": 6,
   "id": "9daf59b6-214e-4422-822b-4020339fcd5c",
   "metadata": {},
   "outputs": [
    {
     "name": "stdout",
     "output_type": "stream",
     "text": [
      " Il volume nell'unit� C � Windows\n",
      " Numero di serie del volume: 7ED3-C81C\n",
      "\n",
      " Directory di c:\\Users\\lioss\\OneDrive\\Desktop\\Python\\Python_Module\\2301\n",
      "\n",
      "23/01/2024  17:23    <DIR>          .\n",
      "23/01/2024  17:23    <DIR>          ..\n",
      "23/01/2024  17:24             3.506 Eserc2301.ipynb\n",
      "23/01/2024  17:24                66 output.txt\n",
      "23/01/2024  14:43                21 script_esempio.py\n",
      "               3 File          3.593 byte\n",
      "               2 Directory  44.866.613.248 byte disponibili\n"
     ]
    }
   ],
   "source": [
    "#Esercizio4\n",
    "%ls"
   ]
  },
  {
   "cell_type": "code",
   "execution_count": null,
   "id": "8693045b-2d51-48c8-850d-52b97311702c",
   "metadata": {},
   "outputs": [],
   "source": []
  }
 ],
 "metadata": {
  "kernelspec": {
   "display_name": "Python 3 (ipykernel)",
   "language": "python",
   "name": "python3"
  },
  "language_info": {
   "codemirror_mode": {
    "name": "ipython",
    "version": 3
   },
   "file_extension": ".py",
   "mimetype": "text/x-python",
   "name": "python",
   "nbconvert_exporter": "python",
   "pygments_lexer": "ipython3",
   "version": "3.12.1"
  }
 },
 "nbformat": 4,
 "nbformat_minor": 5
}
